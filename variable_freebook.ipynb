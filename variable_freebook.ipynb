{
  "nbformat": 4,
  "nbformat_minor": 0,
  "metadata": {
    "colab": {
      "provenance": [],
      "authorship_tag": "ABX9TyN4aQr86owRrvbR6MzXa7aE",
      "include_colab_link": true
    },
    "kernelspec": {
      "name": "python3",
      "display_name": "Python 3"
    },
    "language_info": {
      "name": "python"
    }
  },
  "cells": [
    {
      "cell_type": "markdown",
      "metadata": {
        "id": "view-in-github",
        "colab_type": "text"
      },
      "source": [
        "<a href=\"https://colab.research.google.com/github/Mostafa-Hamidifard/tensorflow-tutorial/blob/main/variable_freebook.ipynb\" target=\"_parent\"><img src=\"https://colab.research.google.com/assets/colab-badge.svg\" alt=\"Open In Colab\"/></a>"
      ]
    },
    {
      "cell_type": "code",
      "execution_count": 2,
      "metadata": {
        "id": "UOqODVTx0F7A",
        "colab": {
          "base_uri": "https://localhost:8080/"
        },
        "outputId": "20e3698d-79f5-445d-8d22-664231232982"
      },
      "outputs": [
        {
          "output_type": "stream",
          "name": "stdout",
          "text": [
            "(4,)\n",
            "id= 136221127528208\n",
            "id= 136223780038864\n"
          ]
        }
      ],
      "source": [
        "import tensorflow as tf\n",
        "import numpy as np\n",
        "a = tf.Variable([1.1,2,3,4])\n",
        "print(a.shape)\n",
        "print(f\"id= {id(a)}\")\n",
        "print(f\"id= {id(tf.reshape(a,[2,2]))}\") # note that id has changed"
      ]
    },
    {
      "cell_type": "code",
      "source": [
        "a.assign([0,0,0,0])\n",
        "print(a)"
      ],
      "metadata": {
        "colab": {
          "base_uri": "https://localhost:8080/"
        },
        "id": "UbD7Erug04hc",
        "outputId": "74eb238b-5904-48f2-f1ae-1ef0f071a49c"
      },
      "execution_count": 4,
      "outputs": [
        {
          "output_type": "stream",
          "name": "stdout",
          "text": [
            "<tf.Variable 'Variable:0' shape=(4,) dtype=float32, numpy=array([0., 0., 0., 0.], dtype=float32)>\n"
          ]
        }
      ]
    },
    {
      "cell_type": "code",
      "source": [
        "try:\n",
        "    a.assign([1,1])\n",
        "except Exception as e:\n",
        "    print(f\"{type(e).__name__}: {e}\")"
      ],
      "metadata": {
        "colab": {
          "base_uri": "https://localhost:8080/"
        },
        "id": "29rzTuKk1Ff2",
        "outputId": "393a8370-163a-4022-f366-ecf6cc4d6280"
      },
      "execution_count": 5,
      "outputs": [
        {
          "output_type": "stream",
          "name": "stdout",
          "text": [
            "ValueError: Cannot assign value to variable ' Variable:0': Shape mismatch.The variable shape (4,), and the assigned value shape (2,) are incompatible.\n"
          ]
        }
      ]
    },
    {
      "cell_type": "code",
      "source": [
        "a = tf.Variable([1,2,2],name=\"var1\")\n",
        "b = tf.Variable([1,2,1],name=\"var2\")\n",
        "\n",
        "print(a)\n",
        "print(b)"
      ],
      "metadata": {
        "colab": {
          "base_uri": "https://localhost:8080/"
        },
        "id": "gjqOMX_F1gSq",
        "outputId": "ab344c17-6f84-44be-d730-b12fa285f81e"
      },
      "execution_count": 11,
      "outputs": [
        {
          "output_type": "stream",
          "name": "stdout",
          "text": [
            "<tf.Variable 'var1:0' shape=(3,) dtype=int32, numpy=array([1, 2, 2], dtype=int32)>\n",
            "<tf.Variable 'var2:0' shape=(3,) dtype=int32, numpy=array([1, 2, 1], dtype=int32)>\n"
          ]
        }
      ]
    },
    {
      "cell_type": "code",
      "source": [
        "step_counter = tf.Variable(1,trainable=False) # no need to compute gradient"
      ],
      "metadata": {
        "id": "8rKIwEIj2267"
      },
      "execution_count": 8,
      "outputs": []
    },
    {
      "cell_type": "code",
      "source": [
        "# with tf.device('CPU:0'):\n",
        "#   a = tf.Variable([[1.0, 2.0, 3.0], [4.0, 5.0, 6.0]])\n",
        "#   b = tf.Variable([[1.0, 2.0, 3.0]])\n",
        "\n",
        "# with tf.device('GPU:0'):\n",
        "#   # Element-wise multiply\n",
        "#   k = a * b\n",
        "\n",
        "# print(k)"
      ],
      "metadata": {
        "id": "0ZrWRUPG2_e5"
      },
      "execution_count": null,
      "outputs": []
    }
  ]
}